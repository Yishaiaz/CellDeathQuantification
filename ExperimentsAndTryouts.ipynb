{
 "cells": [
  {
   "cell_type": "code",
   "execution_count": 9,
   "metadata": {
    "collapsed": true
   },
   "outputs": [],
   "source": [
    "import numpy as np\n",
    "import pandas as pd\n",
    "from utils import *\n",
    "from QuantificationScripts.NucleationAndPropagationMeasurements import *\n",
    "\n",
    "\n",
    "kwargs = dict()\n",
    "kwargs['distance_metric'] = 'kl_divergence'\n",
    "kwargs['visualize_flag'] = False\n",
    "kwargs['only_recent_death_flag_for_neighbors_calc'] = True\n",
    "dir_path = os.sep.join(\n",
    "        os.getcwd().split(os.sep) + ['Data', 'Experiments_XYT_CSV',\n",
    "                                          'OriginalTimeMinutesData'])"
   ]
  },
  {
   "cell_type": "code",
   "execution_count": 10,
   "outputs": [
    {
     "name": "stdout",
     "output_type": "stream",
     "text": [
      "analyzing exp 20160820_10A_FB_xy11 | 1/94\n",
      "analyzing exp 20160820_10A_FB_xy12 | 2/94\n",
      "analyzing exp 20160820_10A_FB_xy13 | 3/94\n",
      "analyzing exp 20160820_10A_FB_xy14 | 4/94\n",
      "analyzing exp 20160820_10A_FB_xy15 | 5/94\n",
      "analyzing exp 20160828_10AsgCx43_FB_xy01 | 6/94\n",
      "analyzing exp 20160828_10AsgCx43_FB_xy02 | 7/94\n",
      "analyzing exp 20160828_10AsgCx43_FB_xy03 | 8/94\n",
      "analyzing exp 20160828_10AsgCx43_FB_xy04 | 9/94\n",
      "analyzing exp 20160828_10AsgCx43_FB_xy05 | 10/94\n",
      "analyzing exp 20160828_10AsgCx43_FB_xy06 | 11/94\n",
      "analyzing exp 20160828_10AsgCx43_FB_xy07 | 12/94\n",
      "analyzing exp 20160828_10AsgCx43_FB_xy08 | 13/94\n",
      "analyzing exp 20160828_10AsgCx43_FB_xy09 | 14/94\n",
      "analyzing exp 20160828_10AsgCx43_FB_xy10 | 15/94\n",
      "analyzing exp 20160828_10AsgCx43_FB_xy11 | 16/94\n",
      "analyzing exp 20160828_10AsgCx43_FB_xy13 | 17/94\n",
      "analyzing exp 20160828_10Awt_FB_xy01 | 18/94\n",
      "analyzing exp 20160828_10Awt_FB_xy02 | 19/94\n",
      "analyzing exp 20160828_10Awt_FB_xy03 | 20/94\n",
      "analyzing exp 20160828_10Awt_FB_xy04 | 21/94\n",
      "analyzing exp 20160828_10Awt_FB_xy05 | 22/94\n",
      "analyzing exp 20160909_b16f10_aMSH_xy36 | 23/94\n",
      "analyzing exp 20160909_b16f10_aMSH_xy37 | 24/94\n",
      "analyzing exp 20160909_b16f10_aMSH_xy38 | 25/94\n",
      "analyzing exp 20161129_MCF7_FB_xy11 | 26/94\n",
      "analyzing exp 20161129_MCF7_FB_xy12 | 27/94\n",
      "analyzing exp 20161129_MCF7_FB_xy13 | 28/94\n",
      "analyzing exp 20161129_MCF7_FB_xy14 | 29/94\n",
      "analyzing exp 20161129_MCF7_FB_xy15 | 30/94\n",
      "analyzing exp 20170213_U937_FB_xy1 | 31/94\n",
      "analyzing exp 20170213_U937_FB_xy2 | 32/94\n",
      "analyzing exp 20170213_U937_FB_xy3 | 33/94\n",
      "analyzing exp 20170213_U937_FB_xy4 | 34/94\n",
      "analyzing exp 20170213_U937_FB_xy5 | 35/94\n",
      "analyzing exp 20170523_MCF7_ML162_xy10 | 36/94\n",
      "analyzing exp 20170523_MCF7_ML162_xy6 | 37/94\n",
      "analyzing exp 20170523_MCF7_ML162_xy7 | 38/94\n",
      "analyzing exp 20170523_MCF7_ML162_xy8 | 39/94\n",
      "analyzing exp 20170523_MCF7_ML162_xy9 | 40/94\n",
      "analyzing exp 20170929_MCF7_H2O2_xy30 | 41/94\n",
      "analyzing exp 20171008_MCF7_H2O2_xy2 | 42/94\n",
      "analyzing exp 20171008_MCF7_H2O2_xy3 | 43/94\n",
      "analyzing exp 20171008_MCF7_H2O2_xy4 | 44/94\n",
      "analyzing exp 20171008_MCF7_H2O2_xy5 | 45/94\n",
      "analyzing exp 20171212_MCF10A_ML162_xy1 | 46/94\n",
      "analyzing exp 20171212_MCF10A_ML162_xy3 | 47/94\n",
      "analyzing exp 20171212_MCF10A_ML162_xy4 | 48/94\n",
      "analyzing exp 20171212_MCF10A_ML162_xy5 | 49/94\n",
      "analyzing exp 20180514_HAP1_FB_xy1 | 50/94\n",
      "analyzing exp 20180514_HAP1_FB_xy2 | 51/94\n",
      "analyzing exp 20180514_HAP1_FB_xy3 | 52/94\n",
      "analyzing exp 20180514_HAP1_FB_xy4 | 53/94\n",
      "analyzing exp 20180514_HAP1_FB_xy5 | 54/94\n",
      "analyzing exp 20180620_HAP1_erastin_xy1 | 55/94\n",
      "analyzing exp 20180620_HAP1_erastin_xy10 | 56/94\n",
      "analyzing exp 20180620_HAP1_erastin_xy2 | 57/94\n",
      "analyzing exp 20180620_HAP1_erastin_xy3 | 58/94\n",
      "analyzing exp 20180620_HAP1_erastin_xy4 | 59/94\n",
      "analyzing exp 20180620_HAP1_erastin_xy5 | 60/94\n",
      "analyzing exp 20180620_HAP1_erastin_xy6 | 61/94\n",
      "analyzing exp 20180620_HAP1_erastin_xy7 | 62/94\n",
      "analyzing exp 20180620_HAP1_erastin_xy8 | 63/94\n",
      "analyzing exp 20180620_HAP1_erastin_xy9 | 64/94\n",
      "analyzing exp 20180905_U937_TSZ_xy1 | 65/94\n",
      "analyzing exp 20180905_U937_TSZ_xy2 | 66/94\n",
      "analyzing exp 20180905_U937_TSZ_xy3 | 67/94\n",
      "analyzing exp 20180905_U937_TSZ_xy5 | 68/94\n",
      "analyzing exp 20180905_U937_TSZ_xy9 | 69/94\n",
      "analyzing exp 20181227_MCF10A_SKT_xy1 | 70/94\n",
      "analyzing exp 20181227_MCF10A_SKT_xy2 | 71/94\n",
      "analyzing exp 20181227_MCF10A_SKT_xy3 | 72/94\n",
      "analyzing exp 20181227_MCF10A_SKT_xy4 | 73/94\n",
      "analyzing exp 20181227_MCF10A_SKT_xy5 | 74/94\n",
      "analyzing exp 20181229_HAP1-920H_FB+PEG1450_GCAMP_xy51 | 75/94\n",
      "analyzing exp 20181229_HAP1-920H_FB+PEG1450_GCAMP_xy52 | 76/94\n",
      "analyzing exp 20181229_HAP1-920H_FB+PEG1450_GCAMP_xy53 | 77/94\n",
      "analyzing exp 20181229_HAP1-920H_FB+PEG1450_GCAMP_xy54 | 78/94\n",
      "analyzing exp 20181229_HAP1-920H_FB+PEG1450_GCAMP_xy55 | 79/94\n",
      "analyzing exp 20181229_HAP1-920H_FB+PEG3350_GCAMP_xy56 | 80/94\n",
      "analyzing exp 20181229_HAP1-920H_FB+PEG3350_GCAMP_xy57 | 81/94\n",
      "analyzing exp 20181229_HAP1-920H_FB+PEG3350_GCAMP_xy58 | 82/94\n",
      "analyzing exp 20181229_HAP1-920H_FB+PEG3350_GCAMP_xy59 | 83/94\n",
      "analyzing exp 20181229_HAP1-920H_FB+PEG3350_GCAMP_xy60 | 84/94\n",
      "analyzing exp 20181229_HAP1-920H_FB_GCAMP_xy46 | 85/94\n",
      "analyzing exp 20181229_HAP1-920H_FB_GCAMP_xy47 | 86/94\n",
      "analyzing exp 20181229_HAP1-920H_FB_GCAMP_xy48 | 87/94\n",
      "analyzing exp 20181229_HAP1-920H_FB_GCAMP_xy49 | 88/94\n",
      "analyzing exp 20181229_HAP1-920H_FB_GCAMP_xy50 | 89/94\n",
      "analyzing exp 20200311_HAP1_ML162_xy1 | 90/94\n",
      "analyzing exp 20200311_HAP1_ML162_xy2 | 91/94\n",
      "analyzing exp 20200311_HAP1_ML162_xy3 | 92/94\n",
      "analyzing exp 20200311_HAP1_ML162_xy4 | 93/94\n",
      "analyzing exp 20200311_HAP1_ML162_xy6 | 94/94\n"
     ]
    }
   ],
   "source": [
    "# by_treatment_distance_metric_score_p_nuc, by_treatment_distance_metric_score_p_prop = calc_distance_metric_between_experiments_results_of_altering_flag_values(dir_path=dir_path, **kwargs)\n",
    "all_global_p_nuc, all_global_p_prop, all_treatment_types = calc_and_visualize_all_experiments_csvs_in_dir(dir_path=dir_path, **kwargs)"
   ],
   "metadata": {
    "collapsed": false,
    "pycharm": {
     "name": "#%%\n"
    }
   }
  },
  {
   "cell_type": "code",
   "execution_count": 11,
   "outputs": [],
   "source": [
    "treatment_p_nuc_prop = {}\n",
    "p_nuc_p_prop = []\n",
    "treatments_names = []\n",
    "for exp_pnuc, exp_pprop, treatment in zip(all_global_p_nuc,\n",
    "                                           all_global_p_prop,\n",
    "                                           all_treatment_types):\n",
    "    treatment_p_nuc_prop[treatment] = treatment_p_nuc_prop.get(treatment, []) + [(exp_pnuc, exp_pprop)]\n",
    "    p_nuc_p_prop.append([exp_pnuc, exp_pprop])\n",
    "    treatments_names.append(treatment)"
   ],
   "metadata": {
    "collapsed": false,
    "pycharm": {
     "name": "#%%\n"
    }
   }
  },
  {
   "cell_type": "code",
   "execution_count": 12,
   "outputs": [],
   "source": [
    "mean_distance_by_treatment = {}\n",
    "for treatment_name, treatment_probas in treatment_p_nuc_prop.items():\n",
    "    treatment_probas = np.array(treatment_probas)\n",
    "    treatment_centroid = np.mean(treatment_probas, axis=0)\n",
    "    treatment_distance = 0\n",
    "    for exp_probas in treatment_probas:\n",
    "        treatment_distance += np.sqrt((treatment_centroid[0]**2+exp_probas[0]**2)+\n",
    "                                      (treatment_centroid[1]**2+exp_probas[1]**2))\n",
    "\n",
    "    mean_distance_by_treatment[treatment_name] = treatment_distance/len(treatment_probas)"
   ],
   "metadata": {
    "collapsed": false,
    "pycharm": {
     "name": "#%%\n"
    }
   }
  },
  {
   "cell_type": "code",
   "execution_count": 6,
   "outputs": [],
   "source": [
    "all_death_mean_distance_by_treatment = mean_distance_by_treatment"
   ],
   "metadata": {
    "collapsed": false,
    "pycharm": {
     "name": "#%%\n"
    }
   }
  },
  {
   "cell_type": "code",
   "execution_count": 13,
   "outputs": [],
   "source": [
    "# for recent death only\n",
    "recent_death_mean_distance_by_treatment = mean_distance_by_treatment"
   ],
   "metadata": {
    "collapsed": false,
    "pycharm": {
     "name": "#%%\n"
    }
   }
  },
  {
   "cell_type": "code",
   "execution_count": 16,
   "outputs": [
    {
     "name": "stderr",
     "output_type": "stream",
     "text": [
      "The PostScript backend does not support transparency; partially transparent artists will be rendered opaque.\n",
      "The PostScript backend does not support transparency; partially transparent artists will be rendered opaque.\n"
     ]
    },
    {
     "data": {
      "text/plain": "<Figure size 432x288 with 1 Axes>",
      "image/png": "[encoded data removed]"
     },
     "metadata": {
      "needs_background": "light"
     },
     "output_type": "display_data"
    }
   ],
   "source": [
    "fig, ax = plt.subplots()\n",
    "ax.scatter(np.arange(0, len(all_death_mean_distance_by_treatment), 1), all_death_mean_distance_by_treatment.values(), label='All Death Considered')\n",
    "ax.scatter(np.arange(0, len(recent_death_mean_distance_by_treatment), 1), recent_death_mean_distance_by_treatment.values(), label='Only Recent Death')\n",
    "ax.set_xticks(np.arange(0, len(all_death_mean_distance_by_treatment), 1))\n",
    "ax.set_xticklabels(all_death_mean_distance_by_treatment )\n",
    "ax.tick_params(axis='x', labelrotation=-45, labelsize=kwargs.get('x_tick_label_size', 8))\n",
    "\n",
    "ax.set_ylim((1, 1.3))\n",
    "ax.legend(facecolor=(1, 1, 1, 0.3))\n",
    "plt.setp(ax.xaxis.get_majorticklabels(), ha=\"left\", rotation_mode=\"anchor\")\n",
    "plt.tight_layout()\n",
    "plt.savefig('test.png', dpi=200)\n",
    "plt.savefig('test.eps', dpi=200)\n",
    "plt.show()"
   ],
   "metadata": {
    "collapsed": false,
    "pycharm": {
     "name": "#%%\n"
    }
   }
  },
  {
   "cell_type": "code",
   "execution_count": 18,
   "outputs": [
    {
     "data": {
      "text/plain": "14"
     },
     "execution_count": 18,
     "metadata": {},
     "output_type": "execute_result"
    }
   ],
   "source": [
    "len(np.arange(0, len(mean_distance_by_treatment), 1),)"
   ],
   "metadata": {
    "collapsed": false,
    "pycharm": {
     "name": "#%%\n"
    }
   }
  },
  {
   "cell_type": "code",
   "execution_count": 3,
   "outputs": [
    {
     "name": "stdout",
     "output_type": "stream",
     "text": [
      "{'key1': 3, 'key2': 3, 'key3': 4}\n"
     ]
    }
   ],
   "source": [
    "dict_1 = {'key1': 1, 'key2': 3}\n",
    "dict_2 = {'key1': 3, 'key3': 4}\n",
    "dict_1.update(dict_2)\n",
    "print(dict_1)"
   ],
   "metadata": {
    "collapsed": false,
    "pycharm": {
     "name": "#%%\n"
    }
   }
  },
  {
   "cell_type": "code",
   "execution_count": 10,
   "outputs": [],
   "source": [
    "from utils import *\n",
    "\n",
    "kwargs_to_add = {'ferroptosis_attempt_HIGH_healing_factor': [0, 1, 0, 1]}\n",
    "add_values_to_json('C:\\\\Users\\\\User\\\\PycharmProjects\\\\CellDeathQuantification\\\\config_files\\\\treatment_to_color_dict_path.txt', kwargs_to_add)\n",
    "kwargs_to_add = {'ferroptosis_attempt_HIGH_healing_factor': '$H$'}\n",
    "add_values_to_json('C:\\\\Users\\\\User\\\\PycharmProjects\\\\CellDeathQuantification\\\\config_files\\\\treatment_to_marker_dict_path.txt', kwargs_to_add)"
   ],
   "metadata": {
    "collapsed": false,
    "pycharm": {
     "name": "#%%\n"
    }
   }
  },
  {
   "cell_type": "code",
   "execution_count": 11,
   "outputs": [
    {
     "ename": "IndexError",
     "evalue": "only integers, slices (`:`), ellipsis (`...`), numpy.newaxis (`None`) and integer or boolean arrays are valid indices",
     "output_type": "error",
     "traceback": [
      "\u001B[1;31m---------------------------------------------------------------------------\u001B[0m",
      "\u001B[1;31mIndexError\u001B[0m                                Traceback (most recent call last)",
      "\u001B[1;32m~\\AppData\\Local\\Temp/ipykernel_1380/1517492064.py\u001B[0m in \u001B[0;36m<module>\u001B[1;34m\u001B[0m\n\u001B[0;32m      9\u001B[0m     \u001B[0mfile_df\u001B[0m \u001B[1;33m=\u001B[0m \u001B[0mpd\u001B[0m\u001B[1;33m.\u001B[0m\u001B[0mread_csv\u001B[0m\u001B[1;33m(\u001B[0m\u001B[0mfilepath\u001B[0m\u001B[1;33m)\u001B[0m\u001B[1;33m\u001B[0m\u001B[1;33m\u001B[0m\u001B[0m\n\u001B[0;32m     10\u001B[0m     \u001B[0mnumber_of_cells\u001B[0m \u001B[1;33m=\u001B[0m \u001B[0mlen\u001B[0m\u001B[1;33m(\u001B[0m\u001B[0mfile_df\u001B[0m\u001B[1;33m)\u001B[0m\u001B[1;33m\u001B[0m\u001B[1;33m\u001B[0m\u001B[0m\n\u001B[1;32m---> 11\u001B[1;33m     \u001B[0mmeta_data_df\u001B[0m\u001B[1;33m.\u001B[0m\u001B[0miloc\u001B[0m\u001B[1;33m[\u001B[0m\u001B[0mrow_idx\u001B[0m\u001B[1;33m,\u001B[0m \u001B[1;34m'Density(#Cells)'\u001B[0m\u001B[1;33m]\u001B[0m \u001B[1;33m=\u001B[0m \u001B[0mnumber_of_cells\u001B[0m\u001B[1;33m\u001B[0m\u001B[1;33m\u001B[0m\u001B[0m\n\u001B[0m\u001B[0;32m     12\u001B[0m \u001B[1;33m\u001B[0m\u001B[0m\n\u001B[0;32m     13\u001B[0m \u001B[0mmeta_data_df\u001B[0m\u001B[1;33m.\u001B[0m\u001B[0mto_csv\u001B[0m\u001B[1;33m(\u001B[0m\u001B[1;33m)\u001B[0m\u001B[1;33m\u001B[0m\u001B[1;33m\u001B[0m\u001B[0m\n",
      "\u001B[1;32mc:\\users\\user\\pycharmprojects\\celldeathquantification\\venv\\lib\\site-packages\\pandas\\core\\indexing.py\u001B[0m in \u001B[0;36m__setitem__\u001B[1;34m(self, key, value)\u001B[0m\n\u001B[0;32m    721\u001B[0m \u001B[1;33m\u001B[0m\u001B[0m\n\u001B[0;32m    722\u001B[0m         \u001B[0miloc\u001B[0m \u001B[1;33m=\u001B[0m \u001B[0mself\u001B[0m \u001B[1;32mif\u001B[0m \u001B[0mself\u001B[0m\u001B[1;33m.\u001B[0m\u001B[0mname\u001B[0m \u001B[1;33m==\u001B[0m \u001B[1;34m\"iloc\"\u001B[0m \u001B[1;32melse\u001B[0m \u001B[0mself\u001B[0m\u001B[1;33m.\u001B[0m\u001B[0mobj\u001B[0m\u001B[1;33m.\u001B[0m\u001B[0miloc\u001B[0m\u001B[1;33m\u001B[0m\u001B[1;33m\u001B[0m\u001B[0m\n\u001B[1;32m--> 723\u001B[1;33m         \u001B[0miloc\u001B[0m\u001B[1;33m.\u001B[0m\u001B[0m_setitem_with_indexer\u001B[0m\u001B[1;33m(\u001B[0m\u001B[0mindexer\u001B[0m\u001B[1;33m,\u001B[0m \u001B[0mvalue\u001B[0m\u001B[1;33m,\u001B[0m \u001B[0mself\u001B[0m\u001B[1;33m.\u001B[0m\u001B[0mname\u001B[0m\u001B[1;33m)\u001B[0m\u001B[1;33m\u001B[0m\u001B[1;33m\u001B[0m\u001B[0m\n\u001B[0m\u001B[0;32m    724\u001B[0m \u001B[1;33m\u001B[0m\u001B[0m\n\u001B[0;32m    725\u001B[0m     \u001B[1;32mdef\u001B[0m \u001B[0m_validate_key\u001B[0m\u001B[1;33m(\u001B[0m\u001B[0mself\u001B[0m\u001B[1;33m,\u001B[0m \u001B[0mkey\u001B[0m\u001B[1;33m,\u001B[0m \u001B[0maxis\u001B[0m\u001B[1;33m:\u001B[0m \u001B[0mint\u001B[0m\u001B[1;33m)\u001B[0m\u001B[1;33m:\u001B[0m\u001B[1;33m\u001B[0m\u001B[1;33m\u001B[0m\u001B[0m\n",
      "\u001B[1;32mc:\\users\\user\\pycharmprojects\\celldeathquantification\\venv\\lib\\site-packages\\pandas\\core\\indexing.py\u001B[0m in \u001B[0;36m_setitem_with_indexer\u001B[1;34m(self, indexer, value, name)\u001B[0m\n\u001B[0;32m   1728\u001B[0m         \u001B[1;32mif\u001B[0m \u001B[0mtake_split_path\u001B[0m\u001B[1;33m:\u001B[0m\u001B[1;33m\u001B[0m\u001B[1;33m\u001B[0m\u001B[0m\n\u001B[0;32m   1729\u001B[0m             \u001B[1;31m# We have to operate column-wise\u001B[0m\u001B[1;33m\u001B[0m\u001B[1;33m\u001B[0m\u001B[1;33m\u001B[0m\u001B[0m\n\u001B[1;32m-> 1730\u001B[1;33m             \u001B[0mself\u001B[0m\u001B[1;33m.\u001B[0m\u001B[0m_setitem_with_indexer_split_path\u001B[0m\u001B[1;33m(\u001B[0m\u001B[0mindexer\u001B[0m\u001B[1;33m,\u001B[0m \u001B[0mvalue\u001B[0m\u001B[1;33m,\u001B[0m \u001B[0mname\u001B[0m\u001B[1;33m)\u001B[0m\u001B[1;33m\u001B[0m\u001B[1;33m\u001B[0m\u001B[0m\n\u001B[0m\u001B[0;32m   1731\u001B[0m         \u001B[1;32melse\u001B[0m\u001B[1;33m:\u001B[0m\u001B[1;33m\u001B[0m\u001B[1;33m\u001B[0m\u001B[0m\n\u001B[0;32m   1732\u001B[0m             \u001B[0mself\u001B[0m\u001B[1;33m.\u001B[0m\u001B[0m_setitem_single_block\u001B[0m\u001B[1;33m(\u001B[0m\u001B[0mindexer\u001B[0m\u001B[1;33m,\u001B[0m \u001B[0mvalue\u001B[0m\u001B[1;33m,\u001B[0m \u001B[0mname\u001B[0m\u001B[1;33m)\u001B[0m\u001B[1;33m\u001B[0m\u001B[1;33m\u001B[0m\u001B[0m\n",
      "\u001B[1;32mc:\\users\\user\\pycharmprojects\\celldeathquantification\\venv\\lib\\site-packages\\pandas\\core\\indexing.py\u001B[0m in \u001B[0;36m_setitem_with_indexer_split_path\u001B[1;34m(self, indexer, value, name)\u001B[0m\n\u001B[0;32m   1815\u001B[0m             \u001B[1;31m# scalar value\u001B[0m\u001B[1;33m\u001B[0m\u001B[1;33m\u001B[0m\u001B[1;33m\u001B[0m\u001B[0m\n\u001B[0;32m   1816\u001B[0m             \u001B[1;32mfor\u001B[0m \u001B[0mloc\u001B[0m \u001B[1;32min\u001B[0m \u001B[0milocs\u001B[0m\u001B[1;33m:\u001B[0m\u001B[1;33m\u001B[0m\u001B[1;33m\u001B[0m\u001B[0m\n\u001B[1;32m-> 1817\u001B[1;33m                 \u001B[0mself\u001B[0m\u001B[1;33m.\u001B[0m\u001B[0m_setitem_single_column\u001B[0m\u001B[1;33m(\u001B[0m\u001B[0mloc\u001B[0m\u001B[1;33m,\u001B[0m \u001B[0mvalue\u001B[0m\u001B[1;33m,\u001B[0m \u001B[0mpi\u001B[0m\u001B[1;33m)\u001B[0m\u001B[1;33m\u001B[0m\u001B[1;33m\u001B[0m\u001B[0m\n\u001B[0m\u001B[0;32m   1818\u001B[0m \u001B[1;33m\u001B[0m\u001B[0m\n\u001B[0;32m   1819\u001B[0m     \u001B[1;32mdef\u001B[0m \u001B[0m_setitem_with_indexer_2d_value\u001B[0m\u001B[1;33m(\u001B[0m\u001B[0mself\u001B[0m\u001B[1;33m,\u001B[0m \u001B[0mindexer\u001B[0m\u001B[1;33m,\u001B[0m \u001B[0mvalue\u001B[0m\u001B[1;33m)\u001B[0m\u001B[1;33m:\u001B[0m\u001B[1;33m\u001B[0m\u001B[1;33m\u001B[0m\u001B[0m\n",
      "\u001B[1;32mc:\\users\\user\\pycharmprojects\\celldeathquantification\\venv\\lib\\site-packages\\pandas\\core\\indexing.py\u001B[0m in \u001B[0;36m_setitem_single_column\u001B[1;34m(self, loc, value, plane_indexer)\u001B[0m\n\u001B[0;32m   1896\u001B[0m         \u001B[0mpi\u001B[0m \u001B[1;33m=\u001B[0m \u001B[0mplane_indexer\u001B[0m\u001B[1;33m\u001B[0m\u001B[1;33m\u001B[0m\u001B[0m\n\u001B[0;32m   1897\u001B[0m \u001B[1;33m\u001B[0m\u001B[0m\n\u001B[1;32m-> 1898\u001B[1;33m         \u001B[0mser\u001B[0m \u001B[1;33m=\u001B[0m \u001B[0mself\u001B[0m\u001B[1;33m.\u001B[0m\u001B[0mobj\u001B[0m\u001B[1;33m.\u001B[0m\u001B[0m_ixs\u001B[0m\u001B[1;33m(\u001B[0m\u001B[0mloc\u001B[0m\u001B[1;33m,\u001B[0m \u001B[0maxis\u001B[0m\u001B[1;33m=\u001B[0m\u001B[1;36m1\u001B[0m\u001B[1;33m)\u001B[0m\u001B[1;33m\u001B[0m\u001B[1;33m\u001B[0m\u001B[0m\n\u001B[0m\u001B[0;32m   1899\u001B[0m \u001B[1;33m\u001B[0m\u001B[0m\n\u001B[0;32m   1900\u001B[0m         \u001B[1;31m# perform the equivalent of a setitem on the info axis\u001B[0m\u001B[1;33m\u001B[0m\u001B[1;33m\u001B[0m\u001B[1;33m\u001B[0m\u001B[0m\n",
      "\u001B[1;32mc:\\users\\user\\pycharmprojects\\celldeathquantification\\venv\\lib\\site-packages\\pandas\\core\\frame.py\u001B[0m in \u001B[0;36m_ixs\u001B[1;34m(self, i, axis)\u001B[0m\n\u001B[0;32m   3392\u001B[0m         \u001B[1;31m# icol\u001B[0m\u001B[1;33m\u001B[0m\u001B[1;33m\u001B[0m\u001B[1;33m\u001B[0m\u001B[0m\n\u001B[0;32m   3393\u001B[0m         \u001B[1;32melse\u001B[0m\u001B[1;33m:\u001B[0m\u001B[1;33m\u001B[0m\u001B[1;33m\u001B[0m\u001B[0m\n\u001B[1;32m-> 3394\u001B[1;33m             \u001B[0mlabel\u001B[0m \u001B[1;33m=\u001B[0m \u001B[0mself\u001B[0m\u001B[1;33m.\u001B[0m\u001B[0mcolumns\u001B[0m\u001B[1;33m[\u001B[0m\u001B[0mi\u001B[0m\u001B[1;33m]\u001B[0m\u001B[1;33m\u001B[0m\u001B[1;33m\u001B[0m\u001B[0m\n\u001B[0m\u001B[0;32m   3395\u001B[0m \u001B[1;33m\u001B[0m\u001B[0m\n\u001B[0;32m   3396\u001B[0m             \u001B[0mvalues\u001B[0m \u001B[1;33m=\u001B[0m \u001B[0mself\u001B[0m\u001B[1;33m.\u001B[0m\u001B[0m_mgr\u001B[0m\u001B[1;33m.\u001B[0m\u001B[0miget\u001B[0m\u001B[1;33m(\u001B[0m\u001B[0mi\u001B[0m\u001B[1;33m)\u001B[0m\u001B[1;33m\u001B[0m\u001B[1;33m\u001B[0m\u001B[0m\n",
      "\u001B[1;32mc:\\users\\user\\pycharmprojects\\celldeathquantification\\venv\\lib\\site-packages\\pandas\\core\\indexes\\base.py\u001B[0m in \u001B[0;36m__getitem__\u001B[1;34m(self, key)\u001B[0m\n\u001B[0;32m   4602\u001B[0m         \u001B[1;32mif\u001B[0m \u001B[0mis_scalar\u001B[0m\u001B[1;33m(\u001B[0m\u001B[0mkey\u001B[0m\u001B[1;33m)\u001B[0m\u001B[1;33m:\u001B[0m\u001B[1;33m\u001B[0m\u001B[1;33m\u001B[0m\u001B[0m\n\u001B[0;32m   4603\u001B[0m             \u001B[0mkey\u001B[0m \u001B[1;33m=\u001B[0m \u001B[0mcom\u001B[0m\u001B[1;33m.\u001B[0m\u001B[0mcast_scalar_indexer\u001B[0m\u001B[1;33m(\u001B[0m\u001B[0mkey\u001B[0m\u001B[1;33m,\u001B[0m \u001B[0mwarn_float\u001B[0m\u001B[1;33m=\u001B[0m\u001B[1;32mTrue\u001B[0m\u001B[1;33m)\u001B[0m\u001B[1;33m\u001B[0m\u001B[1;33m\u001B[0m\u001B[0m\n\u001B[1;32m-> 4604\u001B[1;33m             \u001B[1;32mreturn\u001B[0m \u001B[0mgetitem\u001B[0m\u001B[1;33m(\u001B[0m\u001B[0mkey\u001B[0m\u001B[1;33m)\u001B[0m\u001B[1;33m\u001B[0m\u001B[1;33m\u001B[0m\u001B[0m\n\u001B[0m\u001B[0;32m   4605\u001B[0m \u001B[1;33m\u001B[0m\u001B[0m\n\u001B[0;32m   4606\u001B[0m         \u001B[1;32mif\u001B[0m \u001B[0misinstance\u001B[0m\u001B[1;33m(\u001B[0m\u001B[0mkey\u001B[0m\u001B[1;33m,\u001B[0m \u001B[0mslice\u001B[0m\u001B[1;33m)\u001B[0m\u001B[1;33m:\u001B[0m\u001B[1;33m\u001B[0m\u001B[1;33m\u001B[0m\u001B[0m\n",
      "\u001B[1;31mIndexError\u001B[0m: only integers, slices (`:`), ellipsis (`...`), numpy.newaxis (`None`) and integer or boolean arrays are valid indices"
     ]
    }
   ],
   "source": [
    "import os\n",
    "import pandas as pd\n",
    "\n",
    "meta_data_df = pd.read_csv('C:\\\\Users\\\\User\\\\PycharmProjects\\\\CellDeathQuantification\\\\Data\\\\Experiments_XYT_CSV\\\\ExperimentsMetaData.csv')\n",
    "meta_data_df['Density(#Cells)'] = 0\n",
    "for row_idx, row in meta_data_df.iterrows():\n",
    "    filename = row['File Name']\n",
    "    filepath = os.sep.join(['C:\\\\Users\\\\User\\\\PycharmProjects\\\\CellDeathQuantification\\\\Data\\\\Experiments_XYT_CSV\\\\OriginalTimeMinutesData', filename])\n",
    "    file_df = pd.read_csv(filepath)\n",
    "    number_of_cells = len(file_df)\n",
    "    meta_data_df.iloc[row_idx, 'Density(#Cells)'] = number_of_cells\n",
    "\n",
    "meta_data_df.to_csv()"
   ],
   "metadata": {
    "collapsed": false,
    "pycharm": {
     "name": "#%%\n"
    }
   }
  },
  {
   "cell_type": "code",
   "execution_count": 2,
   "outputs": [
    {
     "data": {
      "text/plain": "87.0"
     },
     "execution_count": 2,
     "metadata": {},
     "output_type": "execute_result"
    }
   ],
   "source": [],
   "metadata": {
    "collapsed": false,
    "pycharm": {
     "name": "#%%\n"
    }
   }
  }
 ],
 "metadata": {
  "kernelspec": {
   "display_name": "Python 3",
   "language": "python",
   "name": "python3"
  },
  "language_info": {
   "codemirror_mode": {
    "name": "ipython",
    "version": 2
   },
   "file_extension": ".py",
   "mimetype": "text/x-python",
   "name": "python",
   "nbconvert_exporter": "python",
   "pygments_lexer": "ipython2",
   "version": "2.7.6"
  }
 },
 "nbformat": 4,
 "nbformat_minor": 0
}