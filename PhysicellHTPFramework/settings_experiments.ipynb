{
 "cells": [
  {
   "cell_type": "code",
   "execution_count": 1,
   "metadata": {
    "collapsed": true
   },
   "outputs": [],
   "source": [
    "import xml.etree.ElementTree as ET"
   ]
  },
  {
   "cell_type": "code",
   "execution_count": 2,
   "outputs": [],
   "source": [
    "import pandas as pd\n",
    "\n",
    "xml_file = ET.parse('SAMPLE_FILES_FOR_DEV/PhysiCell_settings.xml')"
   ],
   "metadata": {
    "collapsed": false,
    "pycharm": {
     "name": "#%%\n"
    }
   }
  },
  {
   "cell_type": "code",
   "execution_count": 3,
   "outputs": [],
   "source": [
    "micro_env = xml_file.findall('microenvironment_setup')"
   ],
   "metadata": {
    "collapsed": false,
    "pycharm": {
     "name": "#%%\n"
    }
   }
  },
  {
   "cell_type": "code",
   "execution_count": 12,
   "outputs": [],
   "source": [
    "variable = micro_env[0][0]"
   ],
   "metadata": {
    "collapsed": false,
    "pycharm": {
     "name": "#%%\n"
    }
   }
  },
  {
   "cell_type": "code",
   "execution_count": 13,
   "outputs": [],
   "source": [
    "physical_parameter_set = variable[0]"
   ],
   "metadata": {
    "collapsed": false,
    "pycharm": {
     "name": "#%%\n"
    }
   }
  },
  {
   "cell_type": "code",
   "execution_count": null,
   "outputs": [],
   "source": [
    "ET.Element(tag='variable', attrib={}, text='')\n",
    "ET.ElementTree()"
   ],
   "metadata": {
    "collapsed": false,
    "pycharm": {
     "name": "#%%\n"
    }
   }
  },
  {
   "cell_type": "code",
   "execution_count": 1,
   "outputs": [],
   "source": [
    "import pyMCDS\n",
    "import pyMCDS_timeseries as pyMCDS_ts"
   ],
   "metadata": {
    "collapsed": false,
    "pycharm": {
     "name": "#%%\n"
    }
   }
  },
  {
   "cell_type": "code",
   "execution_count": 10,
   "outputs": [
    {
     "name": "stdout",
     "output_type": "stream",
     "text": [
      "Reading C:\\Users\\User\\PhysiCell\\output\\output00000002.xml\n",
      "Reading C:\\Users\\User\\PhysiCell\\output\\initial_mesh0.mat\n",
      "Reading C:\\Users\\User\\PhysiCell\\output\\output00000002_microenvironment0.mat\n",
      "Parsing poison data\n",
      "Reading C:\\Users\\User\\PhysiCell\\output\\output00000002_cells_physicell.mat\n"
     ]
    }
   ],
   "source": [
    "mcds = pyMCDS.pyMCDS('C://Users//User//PhysiCell//output//output00000002.xml', 'C://Users//User//PhysiCell//output//')"
   ],
   "metadata": {
    "collapsed": false,
    "pycharm": {
     "name": "#%%\n"
    }
   }
  },
  {
   "cell_type": "code",
   "execution_count": 2,
   "outputs": [
    {
     "name": "stdout",
     "output_type": "stream",
     "text": [
      "Reading C:\\Users\\User\\PhysiCell\\output\\output00000001.xml\n",
      "Reading C:\\Users\\User\\PhysiCell\\output\\initial_mesh0.mat\n",
      "Reading C:\\Users\\User\\PhysiCell\\output\\output00000001_microenvironment0.mat\n",
      "Parsing poison data\n",
      "Reading C:\\Users\\User\\PhysiCell\\output\\output00000001_cells_physicell.mat\n",
      "Reading C:\\Users\\User\\PhysiCell\\output\\output00000002.xml\n",
      "Reading C:\\Users\\User\\PhysiCell\\output\\initial_mesh0.mat\n",
      "Reading C:\\Users\\User\\PhysiCell\\output\\output00000002_microenvironment0.mat\n",
      "Parsing poison data\n",
      "Reading C:\\Users\\User\\PhysiCell\\output\\output00000002_cells_physicell.mat\n",
      "Reading C:\\Users\\User\\PhysiCell\\output\\output00000003.xml\n",
      "Reading C:\\Users\\User\\PhysiCell\\output\\initial_mesh0.mat\n",
      "Reading C:\\Users\\User\\PhysiCell\\output\\output00000003_microenvironment0.mat\n",
      "Parsing poison data\n",
      "Reading C:\\Users\\User\\PhysiCell\\output\\output00000003_cells_physicell.mat\n",
      "Reading C:\\Users\\User\\PhysiCell\\output\\output00000004.xml\n",
      "Reading C:\\Users\\User\\PhysiCell\\output\\initial_mesh0.mat\n",
      "Reading C:\\Users\\User\\PhysiCell\\output\\output00000004_microenvironment0.mat\n",
      "Parsing poison data\n",
      "Reading C:\\Users\\User\\PhysiCell\\output\\output00000004_cells_physicell.mat\n",
      "Reading C:\\Users\\User\\PhysiCell\\output\\output00000005.xml\n",
      "Reading C:\\Users\\User\\PhysiCell\\output\\initial_mesh0.mat\n",
      "Reading C:\\Users\\User\\PhysiCell\\output\\output00000005_microenvironment0.mat\n",
      "Parsing poison data\n",
      "Reading C:\\Users\\User\\PhysiCell\\output\\output00000005_cells_physicell.mat\n",
      "Reading C:\\Users\\User\\PhysiCell\\output\\output00000006.xml\n",
      "Reading C:\\Users\\User\\PhysiCell\\output\\initial_mesh0.mat\n",
      "Reading C:\\Users\\User\\PhysiCell\\output\\output00000006_microenvironment0.mat\n",
      "Parsing poison data\n",
      "Reading C:\\Users\\User\\PhysiCell\\output\\output00000006_cells_physicell.mat\n",
      "Reading C:\\Users\\User\\PhysiCell\\output\\output00000007.xml\n",
      "Reading C:\\Users\\User\\PhysiCell\\output\\initial_mesh0.mat\n",
      "Reading C:\\Users\\User\\PhysiCell\\output\\output00000007_microenvironment0.mat\n",
      "Parsing poison data\n",
      "Reading C:\\Users\\User\\PhysiCell\\output\\output00000007_cells_physicell.mat\n",
      "Reading C:\\Users\\User\\PhysiCell\\output\\output00000008.xml\n",
      "Reading C:\\Users\\User\\PhysiCell\\output\\initial_mesh0.mat\n",
      "Reading C:\\Users\\User\\PhysiCell\\output\\output00000008_microenvironment0.mat\n",
      "Parsing poison data\n",
      "Reading C:\\Users\\User\\PhysiCell\\output\\output00000008_cells_physicell.mat\n",
      "Reading C:\\Users\\User\\PhysiCell\\output\\output00000009.xml\n",
      "Reading C:\\Users\\User\\PhysiCell\\output\\initial_mesh0.mat\n",
      "Reading C:\\Users\\User\\PhysiCell\\output\\output00000009_microenvironment0.mat\n",
      "Parsing poison data\n",
      "Reading C:\\Users\\User\\PhysiCell\\output\\output00000009_cells_physicell.mat\n",
      "Reading C:\\Users\\User\\PhysiCell\\output\\output00000010.xml\n",
      "Reading C:\\Users\\User\\PhysiCell\\output\\initial_mesh0.mat\n",
      "Reading C:\\Users\\User\\PhysiCell\\output\\output00000010_microenvironment0.mat\n",
      "Parsing poison data\n",
      "Reading C:\\Users\\User\\PhysiCell\\output\\output00000010_cells_physicell.mat\n",
      "Reading C:\\Users\\User\\PhysiCell\\output\\output00000011.xml\n",
      "Reading C:\\Users\\User\\PhysiCell\\output\\initial_mesh0.mat\n",
      "Reading C:\\Users\\User\\PhysiCell\\output\\output00000011_microenvironment0.mat\n",
      "Parsing poison data\n",
      "Reading C:\\Users\\User\\PhysiCell\\output\\output00000011_cells_physicell.mat\n",
      "Reading C:\\Users\\User\\PhysiCell\\output\\output00000012.xml\n",
      "Reading C:\\Users\\User\\PhysiCell\\output\\initial_mesh0.mat\n",
      "Reading C:\\Users\\User\\PhysiCell\\output\\output00000012_microenvironment0.mat\n",
      "Parsing poison data\n",
      "Reading C:\\Users\\User\\PhysiCell\\output\\output00000012_cells_physicell.mat\n",
      "Reading C:\\Users\\User\\PhysiCell\\output\\output00000013.xml\n",
      "Reading C:\\Users\\User\\PhysiCell\\output\\initial_mesh0.mat\n",
      "Reading C:\\Users\\User\\PhysiCell\\output\\output00000013_microenvironment0.mat\n",
      "Parsing poison data\n",
      "Reading C:\\Users\\User\\PhysiCell\\output\\output00000013_cells_physicell.mat\n",
      "Reading C:\\Users\\User\\PhysiCell\\output\\output00000014.xml\n",
      "Reading C:\\Users\\User\\PhysiCell\\output\\initial_mesh0.mat\n",
      "Reading C:\\Users\\User\\PhysiCell\\output\\output00000014_microenvironment0.mat\n",
      "Parsing poison data\n",
      "Reading C:\\Users\\User\\PhysiCell\\output\\output00000014_cells_physicell.mat\n",
      "Reading C:\\Users\\User\\PhysiCell\\output\\output00000015.xml\n",
      "Reading C:\\Users\\User\\PhysiCell\\output\\initial_mesh0.mat\n",
      "Reading C:\\Users\\User\\PhysiCell\\output\\output00000015_microenvironment0.mat\n",
      "Parsing poison data\n",
      "Reading C:\\Users\\User\\PhysiCell\\output\\output00000015_cells_physicell.mat\n",
      "Reading C:\\Users\\User\\PhysiCell\\output\\output00000016.xml\n",
      "Reading C:\\Users\\User\\PhysiCell\\output\\initial_mesh0.mat\n",
      "Reading C:\\Users\\User\\PhysiCell\\output\\output00000016_microenvironment0.mat\n",
      "Parsing poison data\n",
      "Reading C:\\Users\\User\\PhysiCell\\output\\output00000016_cells_physicell.mat\n",
      "Reading C:\\Users\\User\\PhysiCell\\output\\output00000017.xml\n",
      "Reading C:\\Users\\User\\PhysiCell\\output\\initial_mesh0.mat\n",
      "Reading C:\\Users\\User\\PhysiCell\\output\\output00000017_microenvironment0.mat\n",
      "Parsing poison data\n",
      "Reading C:\\Users\\User\\PhysiCell\\output\\output00000017_cells_physicell.mat\n",
      "Reading C:\\Users\\User\\PhysiCell\\output\\output00000018.xml\n",
      "Reading C:\\Users\\User\\PhysiCell\\output\\initial_mesh0.mat\n",
      "Reading C:\\Users\\User\\PhysiCell\\output\\output00000018_microenvironment0.mat\n",
      "Parsing poison data\n",
      "Reading C:\\Users\\User\\PhysiCell\\output\\output00000018_cells_physicell.mat\n",
      "Reading C:\\Users\\User\\PhysiCell\\output\\output00000019.xml\n",
      "Reading C:\\Users\\User\\PhysiCell\\output\\initial_mesh0.mat\n",
      "Reading C:\\Users\\User\\PhysiCell\\output\\output00000019_microenvironment0.mat\n",
      "Parsing poison data\n",
      "Reading C:\\Users\\User\\PhysiCell\\output\\output00000019_cells_physicell.mat\n",
      "Reading C:\\Users\\User\\PhysiCell\\output\\output00000020.xml\n",
      "Reading C:\\Users\\User\\PhysiCell\\output\\initial_mesh0.mat\n",
      "Reading C:\\Users\\User\\PhysiCell\\output\\output00000020_microenvironment0.mat\n",
      "Parsing poison data\n",
      "Reading C:\\Users\\User\\PhysiCell\\output\\output00000020_cells_physicell.mat\n",
      "Reading C:\\Users\\User\\PhysiCell\\output\\output00000021.xml\n",
      "Reading C:\\Users\\User\\PhysiCell\\output\\initial_mesh0.mat\n",
      "Reading C:\\Users\\User\\PhysiCell\\output\\output00000021_microenvironment0.mat\n",
      "Parsing poison data\n",
      "Reading C:\\Users\\User\\PhysiCell\\output\\output00000021_cells_physicell.mat\n",
      "Reading C:\\Users\\User\\PhysiCell\\output\\output00000022.xml\n",
      "Reading C:\\Users\\User\\PhysiCell\\output\\initial_mesh0.mat\n",
      "Reading C:\\Users\\User\\PhysiCell\\output\\output00000022_microenvironment0.mat\n",
      "Parsing poison data\n",
      "Reading C:\\Users\\User\\PhysiCell\\output\\output00000022_cells_physicell.mat\n",
      "Reading C:\\Users\\User\\PhysiCell\\output\\output00000023.xml\n",
      "Reading C:\\Users\\User\\PhysiCell\\output\\initial_mesh0.mat\n",
      "Reading C:\\Users\\User\\PhysiCell\\output\\output00000023_microenvironment0.mat\n",
      "Parsing poison data\n",
      "Reading C:\\Users\\User\\PhysiCell\\output\\output00000023_cells_physicell.mat\n",
      "Reading C:\\Users\\User\\PhysiCell\\output\\output00000024.xml\n",
      "Reading C:\\Users\\User\\PhysiCell\\output\\initial_mesh0.mat\n",
      "Reading C:\\Users\\User\\PhysiCell\\output\\output00000024_microenvironment0.mat\n",
      "Parsing poison data\n",
      "Reading C:\\Users\\User\\PhysiCell\\output\\output00000024_cells_physicell.mat\n",
      "Reading C:\\Users\\User\\PhysiCell\\output\\output00000025.xml\n",
      "Reading C:\\Users\\User\\PhysiCell\\output\\initial_mesh0.mat\n",
      "Reading C:\\Users\\User\\PhysiCell\\output\\output00000025_microenvironment0.mat\n",
      "Parsing poison data\n",
      "Reading C:\\Users\\User\\PhysiCell\\output\\output00000025_cells_physicell.mat\n",
      "Reading C:\\Users\\User\\PhysiCell\\output\\output00000026.xml\n",
      "Reading C:\\Users\\User\\PhysiCell\\output\\initial_mesh0.mat\n",
      "Reading C:\\Users\\User\\PhysiCell\\output\\output00000026_microenvironment0.mat\n",
      "Parsing poison data\n",
      "Reading C:\\Users\\User\\PhysiCell\\output\\output00000026_cells_physicell.mat\n",
      "Reading C:\\Users\\User\\PhysiCell\\output\\output00000027.xml\n",
      "Reading C:\\Users\\User\\PhysiCell\\output\\initial_mesh0.mat\n",
      "Reading C:\\Users\\User\\PhysiCell\\output\\output00000027_microenvironment0.mat\n",
      "Parsing poison data\n",
      "Reading C:\\Users\\User\\PhysiCell\\output\\output00000027_cells_physicell.mat\n",
      "Reading C:\\Users\\User\\PhysiCell\\output\\output00000028.xml\n",
      "Reading C:\\Users\\User\\PhysiCell\\output\\initial_mesh0.mat\n",
      "Reading C:\\Users\\User\\PhysiCell\\output\\output00000028_microenvironment0.mat\n",
      "Parsing poison data\n",
      "Reading C:\\Users\\User\\PhysiCell\\output\\output00000028_cells_physicell.mat\n",
      "Reading C:\\Users\\User\\PhysiCell\\output\\output00000029.xml\n",
      "Reading C:\\Users\\User\\PhysiCell\\output\\initial_mesh0.mat\n",
      "Reading C:\\Users\\User\\PhysiCell\\output\\output00000029_microenvironment0.mat\n",
      "Parsing poison data\n",
      "Reading C:\\Users\\User\\PhysiCell\\output\\output00000029_cells_physicell.mat\n",
      "Reading C:\\Users\\User\\PhysiCell\\output\\output00000030.xml\n",
      "Reading C:\\Users\\User\\PhysiCell\\output\\initial_mesh0.mat\n",
      "Reading C:\\Users\\User\\PhysiCell\\output\\output00000030_microenvironment0.mat\n",
      "Parsing poison data\n",
      "Reading C:\\Users\\User\\PhysiCell\\output\\output00000030_cells_physicell.mat\n",
      "Reading C:\\Users\\User\\PhysiCell\\output\\output00000031.xml\n",
      "Reading C:\\Users\\User\\PhysiCell\\output\\initial_mesh0.mat\n",
      "Reading C:\\Users\\User\\PhysiCell\\output\\output00000031_microenvironment0.mat\n",
      "Parsing poison data\n",
      "Reading C:\\Users\\User\\PhysiCell\\output\\output00000031_cells_physicell.mat\n",
      "Reading C:\\Users\\User\\PhysiCell\\output\\output00000032.xml\n",
      "Reading C:\\Users\\User\\PhysiCell\\output\\initial_mesh0.mat\n",
      "Reading C:\\Users\\User\\PhysiCell\\output\\output00000032_microenvironment0.mat\n",
      "Parsing poison data\n",
      "Reading C:\\Users\\User\\PhysiCell\\output\\output00000032_cells_physicell.mat\n",
      "Reading C:\\Users\\User\\PhysiCell\\output\\output00000033.xml\n",
      "Reading C:\\Users\\User\\PhysiCell\\output\\initial_mesh0.mat\n",
      "Reading C:\\Users\\User\\PhysiCell\\output\\output00000033_microenvironment0.mat\n",
      "Parsing poison data\n",
      "Reading C:\\Users\\User\\PhysiCell\\output\\output00000033_cells_physicell.mat\n",
      "Reading C:\\Users\\User\\PhysiCell\\output\\output00000034.xml\n",
      "Reading C:\\Users\\User\\PhysiCell\\output\\initial_mesh0.mat\n",
      "Reading C:\\Users\\User\\PhysiCell\\output\\output00000034_microenvironment0.mat\n",
      "Parsing poison data\n",
      "Reading C:\\Users\\User\\PhysiCell\\output\\output00000034_cells_physicell.mat\n",
      "Reading C:\\Users\\User\\PhysiCell\\output\\output00000035.xml\n",
      "Reading C:\\Users\\User\\PhysiCell\\output\\initial_mesh0.mat\n",
      "Reading C:\\Users\\User\\PhysiCell\\output\\output00000035_microenvironment0.mat\n",
      "Parsing poison data\n",
      "Reading C:\\Users\\User\\PhysiCell\\output\\output00000035_cells_physicell.mat\n",
      "Reading C:\\Users\\User\\PhysiCell\\output\\output00000036.xml\n",
      "Reading C:\\Users\\User\\PhysiCell\\output\\initial_mesh0.mat\n",
      "Reading C:\\Users\\User\\PhysiCell\\output\\output00000036_microenvironment0.mat\n",
      "Parsing poison data\n",
      "Reading C:\\Users\\User\\PhysiCell\\output\\output00000036_cells_physicell.mat\n",
      "Reading C:\\Users\\User\\PhysiCell\\output\\output00000037.xml\n",
      "Reading C:\\Users\\User\\PhysiCell\\output\\initial_mesh0.mat\n",
      "Reading C:\\Users\\User\\PhysiCell\\output\\output00000037_microenvironment0.mat\n",
      "Parsing poison data\n",
      "Reading C:\\Users\\User\\PhysiCell\\output\\output00000037_cells_physicell.mat\n",
      "Reading C:\\Users\\User\\PhysiCell\\output\\output00000038.xml\n",
      "Reading C:\\Users\\User\\PhysiCell\\output\\initial_mesh0.mat\n",
      "Reading C:\\Users\\User\\PhysiCell\\output\\output00000038_microenvironment0.mat\n",
      "Parsing poison data\n",
      "Reading C:\\Users\\User\\PhysiCell\\output\\output00000038_cells_physicell.mat\n",
      "Reading C:\\Users\\User\\PhysiCell\\output\\output00000039.xml\n",
      "Reading C:\\Users\\User\\PhysiCell\\output\\initial_mesh0.mat\n",
      "Reading C:\\Users\\User\\PhysiCell\\output\\output00000039_microenvironment0.mat\n",
      "Parsing poison data\n",
      "Reading C:\\Users\\User\\PhysiCell\\output\\output00000039_cells_physicell.mat\n",
      "Reading C:\\Users\\User\\PhysiCell\\output\\output00000040.xml\n",
      "Reading C:\\Users\\User\\PhysiCell\\output\\initial_mesh0.mat\n",
      "Reading C:\\Users\\User\\PhysiCell\\output\\output00000040_microenvironment0.mat\n",
      "Parsing poison data\n",
      "Reading C:\\Users\\User\\PhysiCell\\output\\output00000040_cells_physicell.mat\n",
      "Reading C:\\Users\\User\\PhysiCell\\output\\output00000041.xml\n",
      "Reading C:\\Users\\User\\PhysiCell\\output\\initial_mesh0.mat\n",
      "Reading C:\\Users\\User\\PhysiCell\\output\\output00000041_microenvironment0.mat\n",
      "Parsing poison data\n",
      "Reading C:\\Users\\User\\PhysiCell\\output\\output00000041_cells_physicell.mat\n",
      "Reading C:\\Users\\User\\PhysiCell\\output\\output00000042.xml\n",
      "Reading C:\\Users\\User\\PhysiCell\\output\\initial_mesh0.mat\n",
      "Reading C:\\Users\\User\\PhysiCell\\output\\output00000042_microenvironment0.mat\n",
      "Parsing poison data\n",
      "Reading C:\\Users\\User\\PhysiCell\\output\\output00000042_cells_physicell.mat\n",
      "Reading C:\\Users\\User\\PhysiCell\\output\\output00000043.xml\n",
      "Reading C:\\Users\\User\\PhysiCell\\output\\initial_mesh0.mat\n",
      "Reading C:\\Users\\User\\PhysiCell\\output\\output00000043_microenvironment0.mat\n",
      "Parsing poison data\n",
      "Reading C:\\Users\\User\\PhysiCell\\output\\output00000043_cells_physicell.mat\n",
      "Reading C:\\Users\\User\\PhysiCell\\output\\output00000044.xml\n",
      "Reading C:\\Users\\User\\PhysiCell\\output\\initial_mesh0.mat\n",
      "Reading C:\\Users\\User\\PhysiCell\\output\\output00000044_microenvironment0.mat\n",
      "Parsing poison data\n",
      "Reading C:\\Users\\User\\PhysiCell\\output\\output00000044_cells_physicell.mat\n",
      "Reading C:\\Users\\User\\PhysiCell\\output\\output00000045.xml\n",
      "Reading C:\\Users\\User\\PhysiCell\\output\\initial_mesh0.mat\n",
      "Reading C:\\Users\\User\\PhysiCell\\output\\output00000045_microenvironment0.mat\n",
      "Parsing poison data\n",
      "Reading C:\\Users\\User\\PhysiCell\\output\\output00000045_cells_physicell.mat\n",
      "Reading C:\\Users\\User\\PhysiCell\\output\\output00000046.xml\n",
      "Reading C:\\Users\\User\\PhysiCell\\output\\initial_mesh0.mat\n",
      "Reading C:\\Users\\User\\PhysiCell\\output\\output00000046_microenvironment0.mat\n",
      "Parsing poison data\n",
      "Reading C:\\Users\\User\\PhysiCell\\output\\output00000046_cells_physicell.mat\n",
      "Reading C:\\Users\\User\\PhysiCell\\output\\output00000047.xml\n",
      "Reading C:\\Users\\User\\PhysiCell\\output\\initial_mesh0.mat\n",
      "Reading C:\\Users\\User\\PhysiCell\\output\\output00000047_microenvironment0.mat\n",
      "Parsing poison data\n",
      "Reading C:\\Users\\User\\PhysiCell\\output\\output00000047_cells_physicell.mat\n",
      "Reading C:\\Users\\User\\PhysiCell\\output\\output00000048.xml\n",
      "Reading C:\\Users\\User\\PhysiCell\\output\\initial_mesh0.mat\n",
      "Reading C:\\Users\\User\\PhysiCell\\output\\output00000048_microenvironment0.mat\n",
      "Parsing poison data\n",
      "Reading C:\\Users\\User\\PhysiCell\\output\\output00000048_cells_physicell.mat\n",
      "Reading C:\\Users\\User\\PhysiCell\\output\\output00000049.xml\n",
      "Reading C:\\Users\\User\\PhysiCell\\output\\initial_mesh0.mat\n",
      "Reading C:\\Users\\User\\PhysiCell\\output\\output00000049_microenvironment0.mat\n",
      "Parsing poison data\n",
      "Reading C:\\Users\\User\\PhysiCell\\output\\output00000049_cells_physicell.mat\n",
      "Reading C:\\Users\\User\\PhysiCell\\output\\output00000050.xml\n",
      "Reading C:\\Users\\User\\PhysiCell\\output\\initial_mesh0.mat\n",
      "Reading C:\\Users\\User\\PhysiCell\\output\\output00000050_microenvironment0.mat\n",
      "Parsing poison data\n",
      "Reading C:\\Users\\User\\PhysiCell\\output\\output00000050_cells_physicell.mat\n"
     ]
    }
   ],
   "source": [
    "ts_mcds = pyMCDS_ts.pyMCDS_timeseries('C:/Users/User/PhysiCell/output/')"
   ],
   "metadata": {
    "collapsed": false,
    "pycharm": {
     "name": "#%%\n"
    }
   }
  },
  {
   "cell_type": "code",
   "execution_count": 3,
   "outputs": [],
   "source": [
    "import numpy as np\n",
    "import pandas as pd"
   ],
   "metadata": {
    "collapsed": false,
    "pycharm": {
     "name": "#%%\n"
    }
   }
  },
  {
   "cell_type": "code",
   "execution_count": 11,
   "outputs": [],
   "source": [
    "def get_dead_cells_at_t(time_frame_data: pyMCDS_ts, prev_dead_cells_idx: list)->np.array:\n",
    "    dead_cells_and_loci = list()\n",
    "    cells_data = time_frame_data.data['discrete_cells']\n",
    "    for cell_idx, cell_heath in enumerate(cells_data['health_bar']):\n",
    "        if cell_heath<=0 and cell_idx not in prev_dead_cells_idx:\n",
    "            cell_x, cell_y = cells_data['position_x'][cell_idx], cells_data['position_y'][cell_idx]\n",
    "            # x,y,t\n",
    "            dead_cells_and_loci.append(np.array([cell_x, cell_y, cell_idx]))\n",
    "    return np.array(dead_cells_and_loci)\n",
    "\n",
    "t = get_dead_cells_at_t(time_frame_data=mcds, prev_dead_cells_idx=[])"
   ],
   "metadata": {
    "collapsed": false,
    "pycharm": {
     "name": "#%%\n"
    }
   }
  },
  {
   "cell_type": "code",
   "execution_count": 12,
   "outputs": [],
   "source": [
    "def get_cells_death_time(ts_mcds: pyMCDS_ts):\n",
    "    xyt_df = {'cell_x': [], 'cell_y': [], 'death_time': []}\n",
    "    time_frames = len(ts_mcds.timeseries)\n",
    "    dead_cells_indices = list()\n",
    "    for frame_idx in range(time_frames):\n",
    "        time_frame_data = ts_mcds.timeseries[frame_idx]\n",
    "        dead_cells_in_curr_frame = get_dead_cells_at_t(time_frame_data=time_frame_data,\n",
    "                                                       prev_dead_cells_idx=dead_cells_indices)\n",
    "        if dead_cells_in_curr_frame.size == 0:\n",
    "            continue\n",
    "        dead_cells_indices+=dead_cells_in_curr_frame[:, 2].tolist()\n",
    "        dead_cells_in_curr_frame[:, 2] = frame_idx\n",
    "        xyt_df['cell_x'] += dead_cells_in_curr_frame[:, 0].tolist()\n",
    "        xyt_df['cell_y'] += dead_cells_in_curr_frame[:, 1].tolist()\n",
    "        xyt_df['death_time'] += dead_cells_in_curr_frame[:, 2].tolist()\n",
    "    return pd.DataFrame(xyt_df)\n",
    "xyt_df_test = get_cells_death_time(ts_mcds)"
   ],
   "metadata": {
    "collapsed": false,
    "pycharm": {
     "name": "#%%\n"
    }
   }
  },
  {
   "cell_type": "code",
   "execution_count": 16,
   "outputs": [],
   "source": [
    "import matplotlib.pyplot as plt"
   ],
   "metadata": {
    "collapsed": false,
    "pycharm": {
     "name": "#%%\n"
    }
   }
  },
  {
   "cell_type": "code",
   "execution_count": 4,
   "outputs": [],
   "source": [
    "cx = mcds.data['discrete_cells']['position_x']\n",
    "cy = mcds.data['discrete_cells']['position_y']\n",
    "# op = mcds.data['discrete_cells']['substrate2']"
   ],
   "metadata": {
    "collapsed": false,
    "pycharm": {
     "name": "#%%\n"
    }
   }
  },
  {
   "cell_type": "code",
   "execution_count": 7,
   "outputs": [
    {
     "data": {
      "text/plain": "(-500.0, 500.0, -500.0, 500.0)"
     },
     "execution_count": 7,
     "metadata": {},
     "output_type": "execute_result"
    },
    {
     "data": {
      "text/plain": "<Figure size 432x288 with 1 Axes>",
      "image/png": "[encoded data removed]"
     },
     "metadata": {
      "needs_background": "light"
     },
     "output_type": "display_data"
    }
   ],
   "source": [
    "plt.scatter(cx,cy)#,c=op)\n",
    "\n",
    "plt.axis([-500,500,-500,500])"
   ],
   "metadata": {
    "collapsed": false,
    "pycharm": {
     "name": "#%%\n"
    }
   }
  },
  {
   "cell_type": "code",
   "execution_count": 12,
   "outputs": [
    {
     "name": "stdout",
     "output_type": "stream",
     "text": [
      "Reading C:\\Users\\User\\PhysiCell\\output\\output00000000.xml\n",
      "Reading C:\\Users\\User\\PhysiCell\\output\\initial_mesh0.mat\n",
      "Reading C:\\Users\\User\\PhysiCell\\output\\output00000000_microenvironment0.mat\n",
      "Parsing poison data\n",
      "Parsing internal_poison data\n",
      "Reading C:\\Users\\User\\PhysiCell\\output\\output00000000_cells_physicell.mat\n",
      "Reading C:\\Users\\User\\PhysiCell\\output\\output00000001.xml\n",
      "Reading C:\\Users\\User\\PhysiCell\\output\\initial_mesh0.mat\n",
      "Reading C:\\Users\\User\\PhysiCell\\output\\output00000001_microenvironment0.mat\n",
      "Parsing poison data\n",
      "Parsing internal_poison data\n",
      "Reading C:\\Users\\User\\PhysiCell\\output\\output00000001_cells_physicell.mat\n",
      "Reading C:\\Users\\User\\PhysiCell\\output\\output00000002.xml\n",
      "Reading C:\\Users\\User\\PhysiCell\\output\\initial_mesh0.mat\n",
      "Reading C:\\Users\\User\\PhysiCell\\output\\output00000002_microenvironment0.mat\n",
      "Parsing poison data\n",
      "Parsing internal_poison data\n",
      "Reading C:\\Users\\User\\PhysiCell\\output\\output00000002_cells_physicell.mat\n",
      "Reading C:\\Users\\User\\PhysiCell\\output\\output00000003.xml\n",
      "Reading C:\\Users\\User\\PhysiCell\\output\\initial_mesh0.mat\n",
      "Reading C:\\Users\\User\\PhysiCell\\output\\output00000003_microenvironment0.mat\n",
      "Parsing poison data\n",
      "Parsing internal_poison data\n",
      "Reading C:\\Users\\User\\PhysiCell\\output\\output00000003_cells_physicell.mat\n",
      "Reading C:\\Users\\User\\PhysiCell\\output\\output00000004.xml\n",
      "Reading C:\\Users\\User\\PhysiCell\\output\\initial_mesh0.mat\n",
      "Reading C:\\Users\\User\\PhysiCell\\output\\output00000004_microenvironment0.mat\n",
      "Parsing poison data\n",
      "Parsing internal_poison data\n",
      "Reading C:\\Users\\User\\PhysiCell\\output\\output00000004_cells_physicell.mat\n",
      "Reading C:\\Users\\User\\PhysiCell\\output\\output00000005.xml\n",
      "Reading C:\\Users\\User\\PhysiCell\\output\\initial_mesh0.mat\n",
      "Reading C:\\Users\\User\\PhysiCell\\output\\output00000005_microenvironment0.mat\n",
      "Parsing poison data\n",
      "Parsing internal_poison data\n",
      "Reading C:\\Users\\User\\PhysiCell\\output\\output00000005_cells_physicell.mat\n",
      "Reading C:\\Users\\User\\PhysiCell\\output\\output00000006.xml\n",
      "Reading C:\\Users\\User\\PhysiCell\\output\\initial_mesh0.mat\n",
      "Reading C:\\Users\\User\\PhysiCell\\output\\output00000006_microenvironment0.mat\n",
      "Parsing poison data\n",
      "Parsing internal_poison data\n",
      "Reading C:\\Users\\User\\PhysiCell\\output\\output00000006_cells_physicell.mat\n",
      "Reading C:\\Users\\User\\PhysiCell\\output\\output00000007.xml\n",
      "Reading C:\\Users\\User\\PhysiCell\\output\\initial_mesh0.mat\n",
      "Reading C:\\Users\\User\\PhysiCell\\output\\output00000007_microenvironment0.mat\n",
      "Parsing poison data\n",
      "Parsing internal_poison data\n",
      "Reading C:\\Users\\User\\PhysiCell\\output\\output00000007_cells_physicell.mat\n",
      "Reading C:\\Users\\User\\PhysiCell\\output\\output00000008.xml\n",
      "Reading C:\\Users\\User\\PhysiCell\\output\\initial_mesh0.mat\n",
      "Reading C:\\Users\\User\\PhysiCell\\output\\output00000008_microenvironment0.mat\n",
      "Parsing poison data\n",
      "Parsing internal_poison data\n",
      "Reading C:\\Users\\User\\PhysiCell\\output\\output00000008_cells_physicell.mat\n",
      "Reading C:\\Users\\User\\PhysiCell\\output\\output00000009.xml\n",
      "Reading C:\\Users\\User\\PhysiCell\\output\\initial_mesh0.mat\n",
      "Reading C:\\Users\\User\\PhysiCell\\output\\output00000009_microenvironment0.mat\n",
      "Parsing poison data\n",
      "Parsing internal_poison data\n",
      "Reading C:\\Users\\User\\PhysiCell\\output\\output00000009_cells_physicell.mat\n",
      "Reading C:\\Users\\User\\PhysiCell\\output\\output00000010.xml\n",
      "Reading C:\\Users\\User\\PhysiCell\\output\\initial_mesh0.mat\n",
      "Reading C:\\Users\\User\\PhysiCell\\output\\output00000010_microenvironment0.mat\n",
      "Parsing poison data\n",
      "Parsing internal_poison data\n",
      "Reading C:\\Users\\User\\PhysiCell\\output\\output00000010_cells_physicell.mat\n",
      "Reading C:\\Users\\User\\PhysiCell\\output\\output00000011.xml\n",
      "Reading C:\\Users\\User\\PhysiCell\\output\\initial_mesh0.mat\n",
      "Reading C:\\Users\\User\\PhysiCell\\output\\output00000011_microenvironment0.mat\n",
      "Parsing poison data\n",
      "Parsing internal_poison data\n",
      "Reading C:\\Users\\User\\PhysiCell\\output\\output00000011_cells_physicell.mat\n",
      "Reading C:\\Users\\User\\PhysiCell\\output\\output00000012.xml\n",
      "Reading C:\\Users\\User\\PhysiCell\\output\\initial_mesh0.mat\n",
      "Reading C:\\Users\\User\\PhysiCell\\output\\output00000012_microenvironment0.mat\n",
      "Parsing poison data\n",
      "Parsing internal_poison data\n",
      "Reading C:\\Users\\User\\PhysiCell\\output\\output00000012_cells_physicell.mat\n"
     ]
    },
    {
     "name": "stderr",
     "output_type": "stream",
     "text": [
      "C:\\Users\\User\\AppData\\Local\\Temp/ipykernel_22680/939784726.py:20: RuntimeWarning: More than 20 figures have been opened. Figures created through the pyplot interface (`matplotlib.pyplot.figure`) are retained until explicitly closed and may consume too much memory. (To control this warning, see the rcParam `figure.max_open_warning`).\n",
      "  fig, ax = plt.subplots()\n"
     ]
    },
    {
     "data": {
      "text/plain": "<Figure size 432x288 with 0 Axes>"
     },
     "metadata": {},
     "output_type": "display_data"
    },
    {
     "data": {
      "text/plain": "<Figure size 432x288 with 0 Axes>"
     },
     "metadata": {},
     "output_type": "display_data"
    },
    {
     "data": {
      "text/plain": "<Figure size 432x288 with 0 Axes>"
     },
     "metadata": {},
     "output_type": "display_data"
    },
    {
     "data": {
      "text/plain": "<Figure size 432x288 with 0 Axes>"
     },
     "metadata": {},
     "output_type": "display_data"
    },
    {
     "data": {
      "text/plain": "<Figure size 432x288 with 0 Axes>"
     },
     "metadata": {},
     "output_type": "display_data"
    },
    {
     "data": {
      "text/plain": "<Figure size 432x288 with 0 Axes>"
     },
     "metadata": {},
     "output_type": "display_data"
    },
    {
     "data": {
      "text/plain": "<Figure size 432x288 with 0 Axes>"
     },
     "metadata": {},
     "output_type": "display_data"
    },
    {
     "data": {
      "text/plain": "<Figure size 432x288 with 0 Axes>"
     },
     "metadata": {},
     "output_type": "display_data"
    },
    {
     "data": {
      "text/plain": "<Figure size 432x288 with 0 Axes>"
     },
     "metadata": {},
     "output_type": "display_data"
    },
    {
     "data": {
      "text/plain": "<Figure size 432x288 with 0 Axes>"
     },
     "metadata": {},
     "output_type": "display_data"
    },
    {
     "data": {
      "text/plain": "<Figure size 432x288 with 0 Axes>"
     },
     "metadata": {},
     "output_type": "display_data"
    },
    {
     "data": {
      "text/plain": "<Figure size 432x288 with 0 Axes>"
     },
     "metadata": {},
     "output_type": "display_data"
    },
    {
     "data": {
      "text/plain": "<Figure size 432x288 with 0 Axes>"
     },
     "metadata": {},
     "output_type": "display_data"
    },
    {
     "data": {
      "text/plain": "<Figure size 432x288 with 0 Axes>"
     },
     "metadata": {},
     "output_type": "display_data"
    },
    {
     "data": {
      "text/plain": "<Figure size 432x288 with 0 Axes>"
     },
     "metadata": {},
     "output_type": "display_data"
    },
    {
     "data": {
      "text/plain": "<Figure size 432x288 with 0 Axes>"
     },
     "metadata": {},
     "output_type": "display_data"
    },
    {
     "data": {
      "text/plain": "<Figure size 432x288 with 0 Axes>"
     },
     "metadata": {},
     "output_type": "display_data"
    },
    {
     "data": {
      "text/plain": "<Figure size 432x288 with 0 Axes>"
     },
     "metadata": {},
     "output_type": "display_data"
    },
    {
     "data": {
      "text/plain": "<Figure size 432x288 with 0 Axes>"
     },
     "metadata": {},
     "output_type": "display_data"
    },
    {
     "data": {
      "text/plain": "<Figure size 432x288 with 0 Axes>"
     },
     "metadata": {},
     "output_type": "display_data"
    },
    {
     "data": {
      "text/plain": "<Figure size 432x288 with 0 Axes>"
     },
     "metadata": {},
     "output_type": "display_data"
    },
    {
     "data": {
      "text/plain": "<Figure size 432x288 with 0 Axes>"
     },
     "metadata": {},
     "output_type": "display_data"
    },
    {
     "data": {
      "text/plain": "<Figure size 432x288 with 0 Axes>"
     },
     "metadata": {},
     "output_type": "display_data"
    },
    {
     "data": {
      "text/plain": "<Figure size 432x288 with 0 Axes>"
     },
     "metadata": {},
     "output_type": "display_data"
    },
    {
     "data": {
      "text/plain": "<Figure size 432x288 with 0 Axes>"
     },
     "metadata": {},
     "output_type": "display_data"
    },
    {
     "data": {
      "text/plain": "<Figure size 432x288 with 0 Axes>"
     },
     "metadata": {},
     "output_type": "display_data"
    },
    {
     "data": {
      "text/plain": "<Figure size 432x288 with 2 Axes>",
      "image/png": "[encoded data removed]"
     },
     "metadata": {
      "needs_background": "light"
     },
     "output_type": "display_data"
    }
   ],
   "source": [
    "import pyMCDS\n",
    "import pyMCDS_timeseries as pyMCDS_ts\n",
    "ts_mcds = pyMCDS_ts.pyMCDS_timeseries('C:/Users/User/PhysiCell/output/')"
   ],
   "metadata": {
    "collapsed": false,
    "pycharm": {
     "name": "#%%\n"
    }
   }
  },
  {
   "cell_type": "code",
   "execution_count": 16,
   "outputs": [
    {
     "name": "stderr",
     "output_type": "stream",
     "text": [
      "C:\\Users\\User\\AppData\\Local\\Temp/ipykernel_22680/3334246897.py:17: RuntimeWarning: More than 20 figures have been opened. Figures created through the pyplot interface (`matplotlib.pyplot.figure`) are retained until explicitly closed and may consume too much memory. (To control this warning, see the rcParam `figure.max_open_warning`).\n",
      "  fig, ax = plt.subplots()\n"
     ]
    },
    {
     "data": {
      "text/plain": "<Figure size 432x288 with 0 Axes>"
     },
     "metadata": {},
     "output_type": "display_data"
    },
    {
     "data": {
      "text/plain": "<Figure size 432x288 with 0 Axes>"
     },
     "metadata": {},
     "output_type": "display_data"
    },
    {
     "data": {
      "text/plain": "<Figure size 432x288 with 0 Axes>"
     },
     "metadata": {},
     "output_type": "display_data"
    },
    {
     "data": {
      "text/plain": "<Figure size 432x288 with 0 Axes>"
     },
     "metadata": {},
     "output_type": "display_data"
    },
    {
     "data": {
      "text/plain": "<Figure size 432x288 with 0 Axes>"
     },
     "metadata": {},
     "output_type": "display_data"
    },
    {
     "data": {
      "text/plain": "<Figure size 432x288 with 0 Axes>"
     },
     "metadata": {},
     "output_type": "display_data"
    },
    {
     "data": {
      "text/plain": "<Figure size 432x288 with 0 Axes>"
     },
     "metadata": {},
     "output_type": "display_data"
    },
    {
     "data": {
      "text/plain": "<Figure size 432x288 with 0 Axes>"
     },
     "metadata": {},
     "output_type": "display_data"
    },
    {
     "data": {
      "text/plain": "<Figure size 432x288 with 0 Axes>"
     },
     "metadata": {},
     "output_type": "display_data"
    },
    {
     "data": {
      "text/plain": "<Figure size 432x288 with 0 Axes>"
     },
     "metadata": {},
     "output_type": "display_data"
    },
    {
     "data": {
      "text/plain": "<Figure size 432x288 with 0 Axes>"
     },
     "metadata": {},
     "output_type": "display_data"
    },
    {
     "data": {
      "text/plain": "<Figure size 432x288 with 0 Axes>"
     },
     "metadata": {},
     "output_type": "display_data"
    },
    {
     "data": {
      "text/plain": "<Figure size 432x288 with 0 Axes>"
     },
     "metadata": {},
     "output_type": "display_data"
    },
    {
     "data": {
      "text/plain": "<Figure size 432x288 with 0 Axes>"
     },
     "metadata": {},
     "output_type": "display_data"
    },
    {
     "data": {
      "text/plain": "<Figure size 432x288 with 0 Axes>"
     },
     "metadata": {},
     "output_type": "display_data"
    },
    {
     "data": {
      "text/plain": "<Figure size 432x288 with 0 Axes>"
     },
     "metadata": {},
     "output_type": "display_data"
    },
    {
     "data": {
      "text/plain": "<Figure size 432x288 with 0 Axes>"
     },
     "metadata": {},
     "output_type": "display_data"
    },
    {
     "data": {
      "text/plain": "<Figure size 432x288 with 0 Axes>"
     },
     "metadata": {},
     "output_type": "display_data"
    },
    {
     "data": {
      "text/plain": "<Figure size 432x288 with 0 Axes>"
     },
     "metadata": {},
     "output_type": "display_data"
    },
    {
     "data": {
      "text/plain": "<Figure size 432x288 with 0 Axes>"
     },
     "metadata": {},
     "output_type": "display_data"
    },
    {
     "data": {
      "text/plain": "<Figure size 432x288 with 0 Axes>"
     },
     "metadata": {},
     "output_type": "display_data"
    },
    {
     "data": {
      "text/plain": "<Figure size 432x288 with 0 Axes>"
     },
     "metadata": {},
     "output_type": "display_data"
    },
    {
     "data": {
      "text/plain": "<Figure size 432x288 with 0 Axes>"
     },
     "metadata": {},
     "output_type": "display_data"
    },
    {
     "data": {
      "text/plain": "<Figure size 432x288 with 0 Axes>"
     },
     "metadata": {},
     "output_type": "display_data"
    },
    {
     "data": {
      "text/plain": "<Figure size 432x288 with 0 Axes>"
     },
     "metadata": {},
     "output_type": "display_data"
    },
    {
     "data": {
      "text/plain": "<Figure size 432x288 with 0 Axes>"
     },
     "metadata": {},
     "output_type": "display_data"
    },
    {
     "data": {
      "text/plain": "<Figure size 432x288 with 2 Axes>",
      "image/png": "[encoded data removed]"
     },
     "metadata": {
      "needs_background": "light"
     },
     "output_type": "display_data"
    }
   ],
   "source": [
    "import matplotlib.pyplot as plt\n",
    "import os\n",
    "\n",
    "\n",
    "\n",
    "substrates = (\"internal_poison\", \"poison\")\n",
    "SKIP = 1\n",
    "\n",
    "for substrate_name in substrates:\n",
    "    dir_path = os.sep.join(['movie_attempts', f'{substrate_name}'])\n",
    "\n",
    "    if not os.path.isdir(dir_path):\n",
    "        os.makedirs(dir_path)\n",
    "\n",
    "    for frame_idx, frame_mcds in enumerate(ts_mcds.timeseries[::SKIP]):\n",
    "        plt.clf()\n",
    "        fig, ax = plt.subplots()\n",
    "        substrate = frame_mcds.get_concentrations( substrate_name )\n",
    "        frame_real_time = frame_mcds.data['metadata']['current_time']\n",
    "\n",
    "        X,Y = frame_mcds.get_2D_mesh()\n",
    "        cx = frame_mcds.data['discrete_cells']['position_x']\n",
    "        cy = frame_mcds.data['discrete_cells']['position_y']\n",
    "        cf = ax.contourf(X,Y,substrate[:,:,0])\n",
    "        ax.axis('image')\n",
    "        ax.scatter(cx,cy, c='black', marker='*')\n",
    "        ax.set_title(f'{frame_real_time} minutes')\n",
    "        cbar = fig.colorbar(cf)\n",
    "        # plt.colorbar()\n",
    "        plt.tight_layout()\n",
    "        fig_path = os.sep.join([dir_path, f'{int(frame_idx):03d}.jpeg'])\n",
    "        fig.savefig(fig_path, dpi=200)"
   ],
   "metadata": {
    "collapsed": false,
    "pycharm": {
     "name": "#%%\n"
    }
   }
  },
  {
   "cell_type": "code",
   "execution_count": 2,
   "outputs": [
    {
     "name": "stdout",
     "output_type": "stream",
     "text": [
      "Reading C:\\Users\\User\\PhysiCell\\output\\output00000000.xml\n",
      "Reading C:\\Users\\User\\PhysiCell\\output\\initial_mesh0.mat\n",
      "Reading C:\\Users\\User\\PhysiCell\\output\\output00000000_microenvironment0.mat\n",
      "Parsing poison data\n",
      "Parsing internal_poison data\n",
      "Reading C:\\Users\\User\\PhysiCell\\output\\output00000000_cells_physicell.mat\n",
      "Reading C:\\Users\\User\\PhysiCell\\output\\output00000001.xml\n",
      "Reading C:\\Users\\User\\PhysiCell\\output\\initial_mesh0.mat\n",
      "Reading C:\\Users\\User\\PhysiCell\\output\\output00000001_microenvironment0.mat\n",
      "Parsing poison data\n",
      "Parsing internal_poison data\n",
      "Reading C:\\Users\\User\\PhysiCell\\output\\output00000001_cells_physicell.mat\n",
      "Reading C:\\Users\\User\\PhysiCell\\output\\output00000002.xml\n",
      "Reading C:\\Users\\User\\PhysiCell\\output\\initial_mesh0.mat\n",
      "Reading C:\\Users\\User\\PhysiCell\\output\\output00000002_microenvironment0.mat\n",
      "Parsing poison data\n",
      "Parsing internal_poison data\n",
      "Reading C:\\Users\\User\\PhysiCell\\output\\output00000002_cells_physicell.mat\n",
      "Reading C:\\Users\\User\\PhysiCell\\output\\output00000003.xml\n",
      "Reading C:\\Users\\User\\PhysiCell\\output\\initial_mesh0.mat\n",
      "Reading C:\\Users\\User\\PhysiCell\\output\\output00000003_microenvironment0.mat\n",
      "Parsing poison data\n",
      "Parsing internal_poison data\n",
      "Reading C:\\Users\\User\\PhysiCell\\output\\output00000003_cells_physicell.mat\n",
      "Reading C:\\Users\\User\\PhysiCell\\output\\output00000004.xml\n",
      "Reading C:\\Users\\User\\PhysiCell\\output\\initial_mesh0.mat\n",
      "Reading C:\\Users\\User\\PhysiCell\\output\\output00000004_microenvironment0.mat\n",
      "Parsing poison data\n",
      "Parsing internal_poison data\n",
      "Reading C:\\Users\\User\\PhysiCell\\output\\output00000004_cells_physicell.mat\n",
      "Reading C:\\Users\\User\\PhysiCell\\output\\output00000005.xml\n",
      "Reading C:\\Users\\User\\PhysiCell\\output\\initial_mesh0.mat\n",
      "Reading C:\\Users\\User\\PhysiCell\\output\\output00000005_microenvironment0.mat\n",
      "Parsing poison data\n",
      "Parsing internal_poison data\n",
      "Reading C:\\Users\\User\\PhysiCell\\output\\output00000005_cells_physicell.mat\n",
      "Reading C:\\Users\\User\\PhysiCell\\output\\output00000006.xml\n",
      "Reading C:\\Users\\User\\PhysiCell\\output\\initial_mesh0.mat\n",
      "Reading C:\\Users\\User\\PhysiCell\\output\\output00000006_microenvironment0.mat\n",
      "Parsing poison data\n",
      "Parsing internal_poison data\n",
      "Reading C:\\Users\\User\\PhysiCell\\output\\output00000006_cells_physicell.mat\n",
      "Reading C:\\Users\\User\\PhysiCell\\output\\output00000007.xml\n",
      "Reading C:\\Users\\User\\PhysiCell\\output\\initial_mesh0.mat\n",
      "Reading C:\\Users\\User\\PhysiCell\\output\\output00000007_microenvironment0.mat\n",
      "Parsing poison data\n",
      "Parsing internal_poison data\n",
      "Reading C:\\Users\\User\\PhysiCell\\output\\output00000007_cells_physicell.mat\n",
      "Reading C:\\Users\\User\\PhysiCell\\output\\output00000008.xml\n",
      "Reading C:\\Users\\User\\PhysiCell\\output\\initial_mesh0.mat\n",
      "Reading C:\\Users\\User\\PhysiCell\\output\\output00000008_microenvironment0.mat\n",
      "Parsing poison data\n",
      "Parsing internal_poison data\n",
      "Reading C:\\Users\\User\\PhysiCell\\output\\output00000008_cells_physicell.mat\n",
      "Reading C:\\Users\\User\\PhysiCell\\output\\output00000009.xml\n",
      "Reading C:\\Users\\User\\PhysiCell\\output\\initial_mesh0.mat\n",
      "Reading C:\\Users\\User\\PhysiCell\\output\\output00000009_microenvironment0.mat\n",
      "Parsing poison data\n",
      "Parsing internal_poison data\n",
      "Reading C:\\Users\\User\\PhysiCell\\output\\output00000009_cells_physicell.mat\n",
      "Reading C:\\Users\\User\\PhysiCell\\output\\output00000010.xml\n",
      "Reading C:\\Users\\User\\PhysiCell\\output\\initial_mesh0.mat\n",
      "Reading C:\\Users\\User\\PhysiCell\\output\\output00000010_microenvironment0.mat\n",
      "Parsing poison data\n",
      "Parsing internal_poison data\n",
      "Reading C:\\Users\\User\\PhysiCell\\output\\output00000010_cells_physicell.mat\n",
      "Reading C:\\Users\\User\\PhysiCell\\output\\output00000011.xml\n",
      "Reading C:\\Users\\User\\PhysiCell\\output\\initial_mesh0.mat\n",
      "Reading C:\\Users\\User\\PhysiCell\\output\\output00000011_microenvironment0.mat\n",
      "Parsing poison data\n",
      "Parsing internal_poison data\n",
      "Reading C:\\Users\\User\\PhysiCell\\output\\output00000011_cells_physicell.mat\n",
      "Reading C:\\Users\\User\\PhysiCell\\output\\output00000012.xml\n",
      "Reading C:\\Users\\User\\PhysiCell\\output\\initial_mesh0.mat\n",
      "Reading C:\\Users\\User\\PhysiCell\\output\\output00000012_microenvironment0.mat\n",
      "Parsing poison data\n",
      "Parsing internal_poison data\n",
      "Reading C:\\Users\\User\\PhysiCell\\output\\output00000012_cells_physicell.mat\n"
     ]
    }
   ],
   "source": [
    "import pyMCDS_timeseries as pyMCDS_ts\n",
    "ts_mcds = pyMCDS_ts.pyMCDS_timeseries('C:/Users/User/PhysiCell/output/')"
   ],
   "metadata": {
    "collapsed": false,
    "pycharm": {
     "name": "#%%\n"
    }
   }
  },
  {
   "cell_type": "code",
   "execution_count": 7,
   "outputs": [
    {
     "data": {
      "text/plain": "<Figure size 432x288 with 0 Axes>"
     },
     "metadata": {},
     "output_type": "display_data"
    },
    {
     "data": {
      "text/plain": "<Figure size 360x360 with 0 Axes>"
     },
     "metadata": {},
     "output_type": "display_data"
    },
    {
     "data": {
      "text/plain": "<Figure size 360x360 with 1 Axes>",
      "image/png": "[encoded data removed]"
     },
     "metadata": {
      "needs_background": "light"
     },
     "output_type": "display_data"
    }
   ],
   "source": [
    "# MOVIE\n",
    "import matplotlib.pyplot as plt\n",
    "import matplotlib.animation as animation\n",
    "\n",
    "\n",
    "\n",
    "substrates = (\"internal_poison\", \"poison\")\n",
    "\n",
    "\n",
    "for substrate_name in substrates:\n",
    "    plt.clf()\n",
    "\n",
    "    fig = plt.figure()\n",
    "    ax = fig.add_subplot(111)\n",
    "\n",
    "    frame_mcds = ts_mcds.timeseries[0]\n",
    "    substrate = frame_mcds.get_concentrations( substrate_name )\n",
    "    frame_real_time = frame_mcds.data['metadata']['current_time']\n",
    "\n",
    "    # ax.set_title(f\"Time: {frame_real_time}\")\n",
    "\n",
    "    ax.set_aspect('equal')\n",
    "    ax.get_xaxis().set_visible(False)\n",
    "    ax.get_yaxis().set_visible(False)\n",
    "\n",
    "    im = ax.imshow(substrate[:, :, 0], cmap='gray', interpolation='nearest')\n",
    "    im.set_clim([0,1])\n",
    "    fig.set_size_inches([5,5])\n",
    "\n",
    "    plt.tight_layout()\n",
    "\n",
    "    def update_img(frame_mcds):\n",
    "        # frame_mcds = ts_mcds.timeseries[n]\n",
    "        substrate = frame_mcds.get_concentrations( substrate_name )\n",
    "        frame_real_time = frame_mcds.data['metadata']['current_time']\n",
    "        im.set_data(substrate[:, :, 0])\n",
    "        # im.set_title(f\"Time: {frame_real_time}\")\n",
    "        return im\n",
    "\n",
    "    ani = animation.FuncAnimation(fig,update_img,frames=ts_mcds.timeseries[1:])\n",
    "    writer = animation.writers['ffmpeg'](fps=1)\n",
    "\n",
    "    ani.save(f'{substrate_name}_demo.mp4',writer=writer,dpi=200)"
   ],
   "metadata": {
    "collapsed": false,
    "pycharm": {
     "name": "#%%\n"
    }
   }
  },
  {
   "cell_type": "code",
   "execution_count": null,
   "outputs": [],
   "source": [
    "import matplotlib.animation as animation\n",
    "import numpy as np\n",
    "from pylab import *\n",
    "\n",
    "\n",
    "def ani_frame():\n",
    "    fig = plt.figure()\n",
    "    ax = fig.add_subplot(111)\n",
    "    ax.set_aspect('equal')\n",
    "    ax.get_xaxis().set_visible(False)\n",
    "    ax.get_yaxis().set_visible(False)\n",
    "\n",
    "    im = ax.imshow(rand(300,300),cmap='gray',interpolation='nearest')\n",
    "    im.set_clim([0,1])\n",
    "    fig.set_size_inches([5,5])\n",
    "\n",
    "\n",
    "    plt.tight_layout()\n",
    "\n",
    "\n",
    "    def update_img(n):\n",
    "        tmp = rand(300,300)\n",
    "        im.set_data(tmp)\n",
    "        return im\n",
    "\n",
    "    #legend(loc=0)\n",
    "    ani = animation.FuncAnimation(fig,update_img,300,interval=30)\n",
    "    writer = animation.writers['ffmpeg'](fps=30)\n",
    "\n",
    "    ani.save('demo.mp4',writer=writer,dpi=200)\n",
    "    return ani\n",
    "\n",
    "ani_frame()"
   ],
   "metadata": {
    "collapsed": false,
    "pycharm": {
     "name": "#%%\n"
    }
   }
  }
 ],
 "metadata": {
  "kernelspec": {
   "display_name": "Python 3",
   "language": "python",
   "name": "python3"
  },
  "language_info": {
   "codemirror_mode": {
    "name": "ipython",
    "version": 2
   },
   "file_extension": ".py",
   "mimetype": "text/x-python",
   "name": "python",
   "nbconvert_exporter": "python",
   "pygments_lexer": "ipython2",
   "version": "2.7.6"
  }
 },
 "nbformat": 4,
 "nbformat_minor": 0
}